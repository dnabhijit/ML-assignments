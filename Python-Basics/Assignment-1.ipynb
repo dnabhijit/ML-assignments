{
 "cells": [
  {
   "cell_type": "markdown",
   "metadata": {},
   "source": [
    "1. Write a Python program to print &quot;Hello Python&quot;?"
   ]
  },
  {
   "cell_type": "code",
   "execution_count": 1,
   "metadata": {},
   "outputs": [
    {
     "name": "stdout",
     "output_type": "stream",
     "text": [
      "\"Hello Python?\"\n"
     ]
    }
   ],
   "source": [
    "print(\"\\\"Hello Python?\\\"\")"
   ]
  },
  {
   "cell_type": "markdown",
   "metadata": {},
   "source": [
    "2. Write a Python program to do arithmetical operations addition and division.?"
   ]
  },
  {
   "cell_type": "code",
   "execution_count": 6,
   "metadata": {},
   "outputs": [
    {
     "name": "stdout",
     "output_type": "stream",
     "text": [
      "Enter any number 4\n",
      "Enter another number 7\n",
      "The sum is 11 and division result is 0.5714285714285714\n"
     ]
    }
   ],
   "source": [
    "a = int(input(\"Enter any number \"))\n",
    "b = int(input(\"Enter another number \"))\n",
    "s = a+b\n",
    "d = float(a/b)\n",
    "print(\"The sum is {} and division result is {}\".format(s,d))"
   ]
  },
  {
   "cell_type": "markdown",
   "metadata": {},
   "source": [
    "3. Write a Python program to find the area of a triangle?"
   ]
  },
  {
   "cell_type": "code",
   "execution_count": 6,
   "metadata": {},
   "outputs": [
    {
     "name": "stdout",
     "output_type": "stream",
     "text": [
      "Enter first side of the triangle 3\n",
      "Enter second side of the triangle 4\n",
      "Enter third side of the triangle 7\n",
      "The area of the triangle is 0.0\n"
     ]
    }
   ],
   "source": [
    "import math\n",
    "\n",
    "a = float(input(\"Enter first side of the triangle \"))\n",
    "b = float(input(\"Enter second side of the triangle \"))\n",
    "c = float(input(\"Enter third side of the triangle \"))\n",
    "s = (a+b+c) / 2\n",
    "area = math.sqrt(s*(s-a)*(s-b)*(s-c))\n",
    "print(\"The area of the triangle is {}\".format(area))"
   ]
  },
  {
   "cell_type": "markdown",
   "metadata": {},
   "source": [
    "Write a Python program to swap two variables?"
   ]
  },
  {
   "cell_type": "code",
   "execution_count": 7,
   "metadata": {},
   "outputs": [
    {
     "name": "stdout",
     "output_type": "stream",
     "text": [
      "Enter any number 3\n",
      "Enter another number 5\n",
      "Before swapping a=3 b=5\n",
      "After swapping a=5 b=3\n"
     ]
    }
   ],
   "source": [
    "a = int(input(\"Enter any number \"))\n",
    "b = int(input(\"Enter another number \"))\n",
    "print(\"Before swapping a={} b={}\".format(a,b))\n",
    "temp=a\n",
    "a=b\n",
    "b=temp\n",
    "print(\"After swapping a={} b={}\".format(a,b))"
   ]
  },
  {
   "cell_type": "markdown",
   "metadata": {},
   "source": [
    "Write a Python program to generate a random number?"
   ]
  },
  {
   "cell_type": "code",
   "execution_count": 10,
   "metadata": {},
   "outputs": [
    {
     "name": "stdout",
     "output_type": "stream",
     "text": [
      "Enter the starting number range 3\n",
      "Enter the ending number range 4\n",
      "The random number is 4\n"
     ]
    }
   ],
   "source": [
    "import random\n",
    "\n",
    "start = int(input(\"Enter the starting number range \"))\n",
    "end = int(input(\"Enter the ending number range \"))\n",
    "\n",
    "random_num = random.randint(start, end)\n",
    "print(\"The random number is {}\".format(random_num))\n"
   ]
  },
  {
   "cell_type": "code",
   "execution_count": null,
   "metadata": {},
   "outputs": [],
   "source": []
  }
 ],
 "metadata": {
  "kernelspec": {
   "display_name": "Python 3",
   "language": "python",
   "name": "python3"
  },
  "language_info": {
   "codemirror_mode": {
    "name": "ipython",
    "version": 3
   },
   "file_extension": ".py",
   "mimetype": "text/x-python",
   "name": "python",
   "nbconvert_exporter": "python",
   "pygments_lexer": "ipython3",
   "version": "3.6.10"
  }
 },
 "nbformat": 4,
 "nbformat_minor": 4
}
