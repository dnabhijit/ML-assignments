{
 "cells": [
  {
   "cell_type": "markdown",
   "metadata": {},
   "source": [
    "Write a Python program to convert kilometers to miles? {1 Mile = 0.621371 Km}"
   ]
  },
  {
   "cell_type": "code",
   "execution_count": 7,
   "metadata": {},
   "outputs": [
    {
     "name": "stdout",
     "output_type": "stream",
     "text": [
      "Enter distance in Km 23\n",
      "23.0 Km. is equivalent to 14.29 Mile\n"
     ]
    }
   ],
   "source": [
    "inp_km = float(input('Enter distance in Km '))\n",
    "mile = round(0.621371 * inp_km, 2)\n",
    "\n",
    "print('{} Km. is equivalent to {} Mile'.format(inp_km, mile))"
   ]
  },
  {
   "cell_type": "markdown",
   "metadata": {},
   "source": [
    "Write a Python program to convert Celsius to Fahrenheit?"
   ]
  },
  {
   "cell_type": "code",
   "execution_count": 17,
   "metadata": {},
   "outputs": [
    {
     "name": "stdout",
     "output_type": "stream",
     "text": [
      "Enter temperature in celsius 32\n",
      "32.0 in Celsius is equivalent to 89.6 in Fahrenheit\n"
     ]
    }
   ],
   "source": [
    "inp_cel = float(input('Enter temperature in celsius '))\n",
    "fahren = round(((inp_cel * (9/5)) + 32), 2)\n",
    "\n",
    "print('{} in Celsius is equivalent to {} in Fahrenheit'.format(inp_cel, fahren))"
   ]
  },
  {
   "cell_type": "markdown",
   "metadata": {},
   "source": [
    "Write a Python program to display calendar?"
   ]
  },
  {
   "cell_type": "code",
   "execution_count": 18,
   "metadata": {},
   "outputs": [
    {
     "name": "stdout",
     "output_type": "stream",
     "text": [
      "Enter year: 2022\n",
      "Enter month: 3\n",
      "     March 2022\n",
      "Mo Tu We Th Fr Sa Su\n",
      "    1  2  3  4  5  6\n",
      " 7  8  9 10 11 12 13\n",
      "14 15 16 17 18 19 20\n",
      "21 22 23 24 25 26 27\n",
      "28 29 30 31\n",
      "\n"
     ]
    }
   ],
   "source": [
    "import calendar\n",
    "\n",
    "yy = int(input(\"Enter year: \"))\n",
    "mm = int(input(\"Enter month: \"))\n",
    "\n",
    "# display the calendar\n",
    "print(calendar.month(yy, mm))"
   ]
  },
  {
   "cell_type": "markdown",
   "metadata": {},
   "source": [
    "Write a Python program to solve quadratic equation?"
   ]
  },
  {
   "cell_type": "code",
   "execution_count": 26,
   "metadata": {},
   "outputs": [
    {
     "name": "stdout",
     "output_type": "stream",
     "text": [
      "Enter the value of a 1\n",
      "Enter the value of b 2\n",
      "Enter the value of c 3\n",
      "Complex Roots\n",
      "-1.0  + i 2.8284271247461903\n",
      "-1.0  - i 2.8284271247461903\n"
     ]
    }
   ],
   "source": [
    "# Python program to find roots of quadratic equation\n",
    "import math \n",
    "  \n",
    "while(True):\n",
    "    a = int(input('Enter the value of a '))\n",
    "    b = int(input('Enter the value of b '))\n",
    "    c = int(input('Enter the value of c '))\n",
    "\n",
    "    # If a is 0, then incorrect equation\n",
    "    if a == 0:\n",
    "        print(\"Input correct quadratic equation\")\n",
    "        continue\n",
    "    else:\n",
    "        break\n",
    "        \n",
    "#print('Outside while loop')\n",
    "\n",
    "# calculating discriminant using formula\n",
    "dis = b * b - 4 * a * c \n",
    "sqrt_val = math.sqrt(abs(dis)) \n",
    "\n",
    "# checking condition for discriminant\n",
    "if dis > 0: \n",
    "    print(\"Real and different roots \") \n",
    "    print((-b + sqrt_val)/(2 * a)) \n",
    "    print((-b - sqrt_val)/(2 * a)) \n",
    "      \n",
    "elif dis == 0: \n",
    "    print(\"Real and same roots\") \n",
    "    print(-b / (2 * a)) \n",
    "      \n",
    "# when discriminant is less than 0\n",
    "else:\n",
    "    print(\"Complex Roots\") \n",
    "    print(- b / (2 * a), \" + i\", sqrt_val) \n",
    "    print(- b / (2 * a), \" - i\", sqrt_val) \n",
    "\n"
   ]
  },
  {
   "cell_type": "markdown",
   "metadata": {},
   "source": [
    "Write a Python program to swap two variables without temp variable?"
   ]
  },
  {
   "cell_type": "code",
   "execution_count": 27,
   "metadata": {},
   "outputs": [
    {
     "name": "stdout",
     "output_type": "stream",
     "text": [
      "Before swapping a=5 b=15\n",
      "After swapping a=15 b=5\n"
     ]
    }
   ],
   "source": [
    "a = 5\n",
    "b = 15\n",
    "\n",
    "print('Before swapping a={} b={}'.format(a,b))\n",
    "\n",
    "a = a+b \n",
    "b = a-b\n",
    "a = a-b\n",
    "\n",
    "print('After swapping a={} b={}'.format(a,b))"
   ]
  },
  {
   "cell_type": "code",
   "execution_count": null,
   "metadata": {},
   "outputs": [],
   "source": []
  }
 ],
 "metadata": {
  "kernelspec": {
   "display_name": "Python 3",
   "language": "python",
   "name": "python3"
  },
  "language_info": {
   "codemirror_mode": {
    "name": "ipython",
    "version": 3
   },
   "file_extension": ".py",
   "mimetype": "text/x-python",
   "name": "python",
   "nbconvert_exporter": "python",
   "pygments_lexer": "ipython3",
   "version": "3.6.10"
  }
 },
 "nbformat": 4,
 "nbformat_minor": 4
}
